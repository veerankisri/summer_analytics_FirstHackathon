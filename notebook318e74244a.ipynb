{
 "cells": [
  {
   "cell_type": "code",
   "execution_count": 1,
   "id": "28f3225e",
   "metadata": {
    "_cell_guid": "b1076dfc-b9ad-4769-8c92-a6c4dae69d19",
    "_uuid": "8f2839f25d086af736a60e9eeb907d3b93b6e0e5",
    "execution": {
     "iopub.execute_input": "2025-06-14T14:19:41.965426Z",
     "iopub.status.busy": "2025-06-14T14:19:41.965086Z",
     "iopub.status.idle": "2025-06-14T14:19:43.782825Z",
     "shell.execute_reply": "2025-06-14T14:19:43.781787Z"
    },
    "papermill": {
     "duration": 1.826546,
     "end_time": "2025-06-14T14:19:43.784491",
     "exception": false,
     "start_time": "2025-06-14T14:19:41.957945",
     "status": "completed"
    },
    "tags": []
   },
   "outputs": [
    {
     "name": "stdout",
     "output_type": "stream",
     "text": [
      "/kaggle/input/summer-analytics-mid-hackathon/hacktest.csv\n",
      "/kaggle/input/summer-analytics-mid-hackathon/hacktrain.csv\n"
     ]
    }
   ],
   "source": [
    "# This Python 3 environment comes with many helpful analytics libraries installed\n",
    "# It is defined by the kaggle/python Docker image: https://github.com/kaggle/docker-python\n",
    "# For example, here's several helpful packages to load\n",
    "\n",
    "import numpy as np # linear algebra\n",
    "import pandas as pd # data processing, CSV file I/O (e.g. pd.read_csv)\n",
    "\n",
    "# Input data files are available in the read-only \"../input/\" directory\n",
    "# For example, running this (by clicking run or pressing Shift+Enter) will list all files under the input directory\n",
    "\n",
    "import os\n",
    "for dirname, _, filenames in os.walk('/kaggle/input'):\n",
    "    for filename in filenames:\n",
    "        print(os.path.join(dirname, filename))\n",
    "\n",
    "# You can write up to 20GB to the current directory (/kaggle/working/) that gets preserved as output when you create a version using \"Save & Run All\" \n",
    "# You can also write temporary files to /kaggle/temp/, but they won't be saved outside of the current session"
   ]
  },
  {
   "cell_type": "code",
   "execution_count": 2,
   "id": "184502b1",
   "metadata": {
    "execution": {
     "iopub.execute_input": "2025-06-14T14:19:43.791820Z",
     "iopub.status.busy": "2025-06-14T14:19:43.791438Z",
     "iopub.status.idle": "2025-06-14T14:19:43.894682Z",
     "shell.execute_reply": "2025-06-14T14:19:43.893748Z"
    },
    "papermill": {
     "duration": 0.108566,
     "end_time": "2025-06-14T14:19:43.896359",
     "exception": false,
     "start_time": "2025-06-14T14:19:43.787793",
     "status": "completed"
    },
    "tags": []
   },
   "outputs": [],
   "source": [
    "# Load datasets\n",
    "train_df = pd.read_csv(\"/kaggle/input/summer-analytics-mid-hackathon/hacktrain.csv\")\n",
    "test_df = pd.read_csv(\"/kaggle/input/summer-analytics-mid-hackathon/hacktest.csv\")"
   ]
  },
  {
   "cell_type": "code",
   "execution_count": 3,
   "id": "b2816c7e",
   "metadata": {
    "execution": {
     "iopub.execute_input": "2025-06-14T14:19:43.903599Z",
     "iopub.status.busy": "2025-06-14T14:19:43.902760Z",
     "iopub.status.idle": "2025-06-14T14:19:45.605130Z",
     "shell.execute_reply": "2025-06-14T14:19:45.604135Z"
    },
    "papermill": {
     "duration": 1.70758,
     "end_time": "2025-06-14T14:19:45.606808",
     "exception": false,
     "start_time": "2025-06-14T14:19:43.899228",
     "status": "completed"
    },
    "tags": []
   },
   "outputs": [],
   "source": [
    "import pandas as pd\n",
    "import numpy as np\n",
    "from sklearn.linear_model import LogisticRegression\n",
    "from sklearn.preprocessing import LabelEncoder, StandardScaler\n",
    "from sklearn.model_selection import train_test_split\n",
    "from sklearn.metrics import accuracy_score, classification_report"
   ]
  },
  {
   "cell_type": "code",
   "execution_count": 4,
   "id": "c241512c",
   "metadata": {
    "execution": {
     "iopub.execute_input": "2025-06-14T14:19:45.613906Z",
     "iopub.status.busy": "2025-06-14T14:19:45.613471Z",
     "iopub.status.idle": "2025-06-14T14:19:45.658282Z",
     "shell.execute_reply": "2025-06-14T14:19:45.657236Z"
    },
    "papermill": {
     "duration": 0.050023,
     "end_time": "2025-06-14T14:19:45.659766",
     "exception": false,
     "start_time": "2025-06-14T14:19:45.609743",
     "status": "completed"
    },
    "tags": []
   },
   "outputs": [
    {
     "name": "stdout",
     "output_type": "stream",
     "text": [
      "Train shape: (8000, 30)\n",
      "Test shape: (2845, 29)\n"
     ]
    },
    {
     "name": "stderr",
     "output_type": "stream",
     "text": [
      "/usr/local/lib/python3.11/dist-packages/pandas/io/formats/format.py:1458: RuntimeWarning: invalid value encountered in greater\n",
      "  has_large_values = (abs_vals > 1e6).any()\n",
      "/usr/local/lib/python3.11/dist-packages/pandas/io/formats/format.py:1459: RuntimeWarning: invalid value encountered in less\n",
      "  has_small_values = ((abs_vals < 10 ** (-self.digits)) & (abs_vals > 0)).any()\n",
      "/usr/local/lib/python3.11/dist-packages/pandas/io/formats/format.py:1459: RuntimeWarning: invalid value encountered in greater\n",
      "  has_small_values = ((abs_vals < 10 ** (-self.digits)) & (abs_vals > 0)).any()\n",
      "/usr/local/lib/python3.11/dist-packages/pandas/io/formats/format.py:1458: RuntimeWarning: invalid value encountered in greater\n",
      "  has_large_values = (abs_vals > 1e6).any()\n",
      "/usr/local/lib/python3.11/dist-packages/pandas/io/formats/format.py:1459: RuntimeWarning: invalid value encountered in less\n",
      "  has_small_values = ((abs_vals < 10 ** (-self.digits)) & (abs_vals > 0)).any()\n",
      "/usr/local/lib/python3.11/dist-packages/pandas/io/formats/format.py:1459: RuntimeWarning: invalid value encountered in greater\n",
      "  has_small_values = ((abs_vals < 10 ** (-self.digits)) & (abs_vals > 0)).any()\n"
     ]
    },
    {
     "data": {
      "text/html": [
       "<div>\n",
       "<style scoped>\n",
       "    .dataframe tbody tr th:only-of-type {\n",
       "        vertical-align: middle;\n",
       "    }\n",
       "\n",
       "    .dataframe tbody tr th {\n",
       "        vertical-align: top;\n",
       "    }\n",
       "\n",
       "    .dataframe thead th {\n",
       "        text-align: right;\n",
       "    }\n",
       "</style>\n",
       "<table border=\"1\" class=\"dataframe\">\n",
       "  <thead>\n",
       "    <tr style=\"text-align: right;\">\n",
       "      <th></th>\n",
       "      <th>Unnamed: 0</th>\n",
       "      <th>ID</th>\n",
       "      <th>class</th>\n",
       "      <th>20150720_N</th>\n",
       "      <th>20150602_N</th>\n",
       "      <th>20150517_N</th>\n",
       "      <th>20150501_N</th>\n",
       "      <th>20150415_N</th>\n",
       "      <th>20150330_N</th>\n",
       "      <th>20150314_N</th>\n",
       "      <th>...</th>\n",
       "      <th>20140610_N</th>\n",
       "      <th>20140525_N</th>\n",
       "      <th>20140509_N</th>\n",
       "      <th>20140423_N</th>\n",
       "      <th>20140407_N</th>\n",
       "      <th>20140322_N</th>\n",
       "      <th>20140218_N</th>\n",
       "      <th>20140202_N</th>\n",
       "      <th>20140117_N</th>\n",
       "      <th>20140101_N</th>\n",
       "    </tr>\n",
       "  </thead>\n",
       "  <tbody>\n",
       "    <tr>\n",
       "      <th>0</th>\n",
       "      <td>0</td>\n",
       "      <td>1</td>\n",
       "      <td>water</td>\n",
       "      <td>637.5950</td>\n",
       "      <td>658.668</td>\n",
       "      <td>-1882.030</td>\n",
       "      <td>-1924.36</td>\n",
       "      <td>997.904</td>\n",
       "      <td>-1739.990</td>\n",
       "      <td>630.087</td>\n",
       "      <td>...</td>\n",
       "      <td>NaN</td>\n",
       "      <td>-1043.160</td>\n",
       "      <td>-1942.490</td>\n",
       "      <td>267.138</td>\n",
       "      <td>NaN</td>\n",
       "      <td>NaN</td>\n",
       "      <td>211.328</td>\n",
       "      <td>-2203.020</td>\n",
       "      <td>-1180.19</td>\n",
       "      <td>433.906</td>\n",
       "    </tr>\n",
       "    <tr>\n",
       "      <th>1</th>\n",
       "      <td>1</td>\n",
       "      <td>2</td>\n",
       "      <td>water</td>\n",
       "      <td>634.2400</td>\n",
       "      <td>593.705</td>\n",
       "      <td>-1625.790</td>\n",
       "      <td>-1672.32</td>\n",
       "      <td>914.198</td>\n",
       "      <td>-692.386</td>\n",
       "      <td>707.626</td>\n",
       "      <td>...</td>\n",
       "      <td>NaN</td>\n",
       "      <td>-933.934</td>\n",
       "      <td>-625.385</td>\n",
       "      <td>120.059</td>\n",
       "      <td>364.858</td>\n",
       "      <td>476.972</td>\n",
       "      <td>220.878</td>\n",
       "      <td>-2250.000</td>\n",
       "      <td>-1360.56</td>\n",
       "      <td>524.075</td>\n",
       "    </tr>\n",
       "    <tr>\n",
       "      <th>2</th>\n",
       "      <td>3</td>\n",
       "      <td>4</td>\n",
       "      <td>water</td>\n",
       "      <td>58.0174</td>\n",
       "      <td>-1599.160</td>\n",
       "      <td>NaN</td>\n",
       "      <td>-1052.63</td>\n",
       "      <td>NaN</td>\n",
       "      <td>-1564.630</td>\n",
       "      <td>NaN</td>\n",
       "      <td>...</td>\n",
       "      <td>-1025.88</td>\n",
       "      <td>368.622</td>\n",
       "      <td>NaN</td>\n",
       "      <td>-1227.800</td>\n",
       "      <td>304.621</td>\n",
       "      <td>NaN</td>\n",
       "      <td>369.214</td>\n",
       "      <td>-2202.120</td>\n",
       "      <td>NaN</td>\n",
       "      <td>-1343.550</td>\n",
       "    </tr>\n",
       "    <tr>\n",
       "      <th>3</th>\n",
       "      <td>4</td>\n",
       "      <td>5</td>\n",
       "      <td>water</td>\n",
       "      <td>72.5180</td>\n",
       "      <td>NaN</td>\n",
       "      <td>380.436</td>\n",
       "      <td>-1256.93</td>\n",
       "      <td>515.805</td>\n",
       "      <td>-1413.180</td>\n",
       "      <td>-802.942</td>\n",
       "      <td>...</td>\n",
       "      <td>-1813.95</td>\n",
       "      <td>155.624</td>\n",
       "      <td>NaN</td>\n",
       "      <td>-924.073</td>\n",
       "      <td>432.150</td>\n",
       "      <td>282.833</td>\n",
       "      <td>298.320</td>\n",
       "      <td>-2197.360</td>\n",
       "      <td>NaN</td>\n",
       "      <td>-826.727</td>\n",
       "    </tr>\n",
       "    <tr>\n",
       "      <th>4</th>\n",
       "      <td>7</td>\n",
       "      <td>8</td>\n",
       "      <td>water</td>\n",
       "      <td>1136.4400</td>\n",
       "      <td>NaN</td>\n",
       "      <td>NaN</td>\n",
       "      <td>1647.83</td>\n",
       "      <td>1935.800</td>\n",
       "      <td>NaN</td>\n",
       "      <td>2158.980</td>\n",
       "      <td>...</td>\n",
       "      <td>1535.00</td>\n",
       "      <td>1959.430</td>\n",
       "      <td>-279.317</td>\n",
       "      <td>-384.915</td>\n",
       "      <td>-113.406</td>\n",
       "      <td>1020.720</td>\n",
       "      <td>1660.650</td>\n",
       "      <td>-116.801</td>\n",
       "      <td>-568.05</td>\n",
       "      <td>-1357.140</td>\n",
       "    </tr>\n",
       "  </tbody>\n",
       "</table>\n",
       "<p>5 rows × 30 columns</p>\n",
       "</div>"
      ],
      "text/plain": [
       "   Unnamed: 0  ID  class  20150720_N  20150602_N  20150517_N  20150501_N  \\\n",
       "0           0   1  water    637.5950     658.668   -1882.030    -1924.36   \n",
       "1           1   2  water    634.2400     593.705   -1625.790    -1672.32   \n",
       "2           3   4  water     58.0174   -1599.160         NaN    -1052.63   \n",
       "3           4   5  water     72.5180         NaN     380.436    -1256.93   \n",
       "4           7   8  water   1136.4400         NaN         NaN     1647.83   \n",
       "\n",
       "   20150415_N  20150330_N  20150314_N  ...  20140610_N  20140525_N  \\\n",
       "0     997.904   -1739.990     630.087  ...         NaN   -1043.160   \n",
       "1     914.198    -692.386     707.626  ...         NaN    -933.934   \n",
       "2         NaN   -1564.630         NaN  ...    -1025.88     368.622   \n",
       "3     515.805   -1413.180    -802.942  ...    -1813.95     155.624   \n",
       "4    1935.800         NaN    2158.980  ...     1535.00    1959.430   \n",
       "\n",
       "   20140509_N  20140423_N  20140407_N  20140322_N  20140218_N  20140202_N  \\\n",
       "0   -1942.490     267.138         NaN         NaN     211.328   -2203.020   \n",
       "1    -625.385     120.059     364.858     476.972     220.878   -2250.000   \n",
       "2         NaN   -1227.800     304.621         NaN     369.214   -2202.120   \n",
       "3         NaN    -924.073     432.150     282.833     298.320   -2197.360   \n",
       "4    -279.317    -384.915    -113.406    1020.720    1660.650    -116.801   \n",
       "\n",
       "   20140117_N  20140101_N  \n",
       "0    -1180.19     433.906  \n",
       "1    -1360.56     524.075  \n",
       "2         NaN   -1343.550  \n",
       "3         NaN    -826.727  \n",
       "4     -568.05   -1357.140  \n",
       "\n",
       "[5 rows x 30 columns]"
      ]
     },
     "execution_count": 4,
     "metadata": {},
     "output_type": "execute_result"
    }
   ],
   "source": [
    "\n",
    "\n",
    "print(\"Train shape:\", train_df.shape)\n",
    "print(\"Test shape:\", test_df.shape)\n",
    "train_df.head()"
   ]
  },
  {
   "cell_type": "code",
   "execution_count": 5,
   "id": "3da56bd1",
   "metadata": {
    "execution": {
     "iopub.execute_input": "2025-06-14T14:19:45.667214Z",
     "iopub.status.busy": "2025-06-14T14:19:45.666881Z",
     "iopub.status.idle": "2025-06-14T14:19:45.713840Z",
     "shell.execute_reply": "2025-06-14T14:19:45.712844Z"
    },
    "papermill": {
     "duration": 0.052857,
     "end_time": "2025-06-14T14:19:45.715892",
     "exception": false,
     "start_time": "2025-06-14T14:19:45.663035",
     "status": "completed"
    },
    "tags": []
   },
   "outputs": [],
   "source": [
    "ndvi_cols = [col for col in train_df.columns if '_N' in col]\n",
    "\n",
    "# Fill missing values with column median\n",
    "train_df[ndvi_cols] = train_df[ndvi_cols].fillna(train_df[ndvi_cols].median())\n",
    "test_df[ndvi_cols] = test_df[ndvi_cols].fillna(test_df[ndvi_cols].median())"
   ]
  },
  {
   "cell_type": "code",
   "execution_count": 6,
   "id": "6866d073",
   "metadata": {
    "execution": {
     "iopub.execute_input": "2025-06-14T14:19:45.723700Z",
     "iopub.status.busy": "2025-06-14T14:19:45.723413Z",
     "iopub.status.idle": "2025-06-14T14:19:46.733217Z",
     "shell.execute_reply": "2025-06-14T14:19:46.732144Z"
    },
    "papermill": {
     "duration": 1.015622,
     "end_time": "2025-06-14T14:19:46.735027",
     "exception": false,
     "start_time": "2025-06-14T14:19:45.719405",
     "status": "completed"
    },
    "tags": []
   },
   "outputs": [],
   "source": [
    "for df in [train_df, test_df]:\n",
    "    df['ndvi_mean'] = df[ndvi_cols].mean(axis=1)\n",
    "    df['ndvi_std'] = df[ndvi_cols].std(axis=1)\n",
    "    df['ndvi_max'] = df[ndvi_cols].max(axis=1)\n",
    "    df['ndvi_min'] = df[ndvi_cols].min(axis=1)\n",
    "    df['ndvi_range'] = df['ndvi_max'] - df['ndvi_min']\n",
    "    df['ndvi_slope'] = df[ndvi_cols].apply(lambda row: np.polyfit(range(len(row)), row.values, 1)[0], axis=1)\n"
   ]
  },
  {
   "cell_type": "code",
   "execution_count": 7,
   "id": "fd62e00e",
   "metadata": {
    "execution": {
     "iopub.execute_input": "2025-06-14T14:19:46.742732Z",
     "iopub.status.busy": "2025-06-14T14:19:46.742147Z",
     "iopub.status.idle": "2025-06-14T14:19:46.753637Z",
     "shell.execute_reply": "2025-06-14T14:19:46.752782Z"
    },
    "papermill": {
     "duration": 0.017109,
     "end_time": "2025-06-14T14:19:46.755372",
     "exception": false,
     "start_time": "2025-06-14T14:19:46.738263",
     "status": "completed"
    },
    "tags": []
   },
   "outputs": [],
   "source": [
    "# Feature columns\n",
    "feature_cols = ndvi_cols + ['ndvi_mean', 'ndvi_std', 'ndvi_max', 'ndvi_min', 'ndvi_range', 'ndvi_slope']\n",
    "\n",
    "X = train_df[feature_cols]\n",
    "test_X = test_df[feature_cols]\n",
    "\n",
    "# Encode target\n",
    "le = LabelEncoder()\n",
    "y = le.fit_transform(train_df['class'])"
   ]
  },
  {
   "cell_type": "code",
   "execution_count": 8,
   "id": "2924c4bf",
   "metadata": {
    "execution": {
     "iopub.execute_input": "2025-06-14T14:19:46.762744Z",
     "iopub.status.busy": "2025-06-14T14:19:46.762457Z",
     "iopub.status.idle": "2025-06-14T14:19:46.806063Z",
     "shell.execute_reply": "2025-06-14T14:19:46.805250Z"
    },
    "papermill": {
     "duration": 0.049177,
     "end_time": "2025-06-14T14:19:46.807769",
     "exception": false,
     "start_time": "2025-06-14T14:19:46.758592",
     "status": "completed"
    },
    "tags": []
   },
   "outputs": [],
   "source": [
    "scaler = StandardScaler()\n",
    "X_scaled = scaler.fit_transform(X)\n",
    "test_X_scaled = scaler.transform(test_X)\n"
   ]
  },
  {
   "cell_type": "code",
   "execution_count": 9,
   "id": "16d25b47",
   "metadata": {
    "execution": {
     "iopub.execute_input": "2025-06-14T14:19:46.815506Z",
     "iopub.status.busy": "2025-06-14T14:19:46.814741Z",
     "iopub.status.idle": "2025-06-14T14:19:49.592679Z",
     "shell.execute_reply": "2025-06-14T14:19:49.591581Z"
    },
    "papermill": {
     "duration": 2.783278,
     "end_time": "2025-06-14T14:19:49.594245",
     "exception": false,
     "start_time": "2025-06-14T14:19:46.810967",
     "status": "completed"
    },
    "tags": []
   },
   "outputs": [
    {
     "name": "stdout",
     "output_type": "stream",
     "text": [
      "Validation Accuracy: 0.906875\n",
      "              precision    recall  f1-score   support\n",
      "\n",
      "        farm       0.72      0.59      0.65       168\n",
      "      forest       0.94      0.97      0.96      1232\n",
      "       grass       0.86      0.62      0.72        39\n",
      "  impervious       0.82      0.87      0.84       134\n",
      "     orchard       1.00      0.17      0.29         6\n",
      "       water       0.81      0.62      0.70        21\n",
      "\n",
      "    accuracy                           0.91      1600\n",
      "   macro avg       0.86      0.64      0.69      1600\n",
      "weighted avg       0.90      0.91      0.90      1600\n",
      "\n"
     ]
    }
   ],
   "source": [
    "X_train, X_val, y_train, y_val = train_test_split(X_scaled, y, test_size=0.2, stratify=y, random_state=42)\n",
    "\n",
    "model = LogisticRegression(solver='saga', max_iter=5000, C=1.0, random_state=42)\n",
    "model.fit(X_train, y_train)\n",
    "\n",
    "val_preds = model.predict(X_val)\n",
    "print(\"Validation Accuracy:\", accuracy_score(y_val, val_preds))\n",
    "print(classification_report(y_val, val_preds, target_names=le.classes_))"
   ]
  },
  {
   "cell_type": "code",
   "execution_count": 10,
   "id": "d391d911",
   "metadata": {
    "execution": {
     "iopub.execute_input": "2025-06-14T14:19:49.603552Z",
     "iopub.status.busy": "2025-06-14T14:19:49.602861Z",
     "iopub.status.idle": "2025-06-14T14:19:49.619916Z",
     "shell.execute_reply": "2025-06-14T14:19:49.618997Z"
    },
    "papermill": {
     "duration": 0.024032,
     "end_time": "2025-06-14T14:19:49.621776",
     "exception": false,
     "start_time": "2025-06-14T14:19:49.597744",
     "status": "completed"
    },
    "tags": []
   },
   "outputs": [],
   "source": [
    "test_preds = model.predict(test_X_scaled)\n",
    "test_df['class'] = le.inverse_transform(test_preds)\n",
    "\n",
    "submission = test_df[['ID', 'class']]\n",
    "submission.to_csv(\"submission.csv\", index=False)\n"
   ]
  },
  {
   "cell_type": "code",
   "execution_count": null,
   "id": "78404c6a",
   "metadata": {
    "papermill": {
     "duration": 0.002849,
     "end_time": "2025-06-14T14:19:49.628020",
     "exception": false,
     "start_time": "2025-06-14T14:19:49.625171",
     "status": "completed"
    },
    "tags": []
   },
   "outputs": [],
   "source": []
  }
 ],
 "metadata": {
  "kaggle": {
   "accelerator": "none",
   "dataSources": [
    {
     "databundleVersionId": 12585144,
     "sourceId": 104491,
     "sourceType": "competition"
    }
   ],
   "dockerImageVersionId": 31040,
   "isGpuEnabled": false,
   "isInternetEnabled": false,
   "language": "python",
   "sourceType": "notebook"
  },
  "kernelspec": {
   "display_name": "Python 3",
   "language": "python",
   "name": "python3"
  },
  "language_info": {
   "codemirror_mode": {
    "name": "ipython",
    "version": 3
   },
   "file_extension": ".py",
   "mimetype": "text/x-python",
   "name": "python",
   "nbconvert_exporter": "python",
   "pygments_lexer": "ipython3",
   "version": "3.11.11"
  },
  "papermill": {
   "default_parameters": {},
   "duration": 13.270112,
   "end_time": "2025-06-14T14:19:50.350872",
   "environment_variables": {},
   "exception": null,
   "input_path": "__notebook__.ipynb",
   "output_path": "__notebook__.ipynb",
   "parameters": {},
   "start_time": "2025-06-14T14:19:37.080760",
   "version": "2.6.0"
  }
 },
 "nbformat": 4,
 "nbformat_minor": 5
}
